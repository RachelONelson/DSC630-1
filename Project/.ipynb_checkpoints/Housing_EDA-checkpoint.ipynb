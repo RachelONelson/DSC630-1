{
 "cells": [
  {
   "cell_type": "code",
   "execution_count": 1,
   "id": "1277e97e-f1d7-41e6-928e-0186ec504851",
   "metadata": {},
   "outputs": [],
   "source": [
    "# Load Libraries\n",
    "import pandas as pd\n",
    "import numpy as np\n",
    "import matplotlib.pyplot as plt"
   ]
  },
  {
   "cell_type": "markdown",
   "id": "fc13b337-3a61-4f33-a5a8-1eca2ce88426",
   "metadata": {
    "tags": []
   },
   "source": [
    "##### Here I am just loading the downloaded .csv files, but it may be better to load them directly from Kaggle.  \n",
    "Thoughts?"
   ]
  },
  {
   "cell_type": "code",
   "execution_count": 2,
   "id": "16da0cdc-0516-40ca-8266-8d0b1c69e310",
   "metadata": {},
   "outputs": [
    {
     "name": "stdout",
     "output_type": "stream",
     "text": [
      "Shape of training data set: (1460, 81)\n",
      "Shape of testing data set:  (1459, 80)\n"
     ]
    }
   ],
   "source": [
    "# Load data sets\n",
    "dfTrain = pd.read_csv(\"train.csv\")\n",
    "dfTest = pd.read_csv(\"test.csv\")\n",
    "\n",
    "print(\"Shape of training data set:\", dfTrain.shape)\n",
    "print(\"Shape of testing data set: \", dfTest.shape)"
   ]
  },
  {
   "cell_type": "markdown",
   "id": "cb6ed5e9-f84b-4122-87b9-e75a674242e7",
   "metadata": {},
   "source": [
    "##### It might be a good idea to combine training and testing data sets for EDA purposes, in order to capture all of the odd cases."
   ]
  },
  {
   "cell_type": "code",
   "execution_count": 3,
   "id": "a65ebbde-1b00-4167-989e-3979e8527f5e",
   "metadata": {},
   "outputs": [
    {
     "name": "stdout",
     "output_type": "stream",
     "text": [
      "Shape of combined data set: (2919, 81)\n"
     ]
    }
   ],
   "source": [
    "# Combine data sets\n",
    "dfBoth = pd.concat([dfTrain, dfTest], keys=['train', 'test'], names=['dataSet', 'index'])\n",
    "\n",
    "print(\"Shape of combined data set:\", dfBoth.shape)"
   ]
  },
  {
   "cell_type": "markdown",
   "id": "8a36718d-ffbe-40b7-a1d6-c9042bdd9fd9",
   "metadata": {},
   "source": [
    "##### I think it's a good idea to first deal with *Null* values."
   ]
  },
  {
   "cell_type": "code",
   "execution_count": 4,
   "id": "41846c3e-10e6-4988-896d-126768ac0237",
   "metadata": {},
   "outputs": [
    {
     "data": {
      "text/plain": [
       "Electrical         1\n",
       "GarageArea         1\n",
       "GarageCars         1\n",
       "Exterior1st        1\n",
       "Exterior2nd        1\n",
       "KitchenQual        1\n",
       "SaleType           1\n",
       "TotalBsmtSF        1\n",
       "BsmtFinSF1         1\n",
       "BsmtUnfSF          1\n",
       "BsmtFinSF2         1\n",
       "Utilities          2\n",
       "Functional         2\n",
       "BsmtHalfBath       2\n",
       "BsmtFullBath       2\n",
       "MSZoning           4\n",
       "MasVnrArea        23\n",
       "MasVnrType        24\n",
       "BsmtFinType1      79\n",
       "BsmtFinType2      80\n",
       "BsmtQual          81\n",
       "BsmtExposure      82\n",
       "BsmtCond          82\n",
       "GarageType       157\n",
       "GarageCond       159\n",
       "GarageQual       159\n",
       "GarageFinish     159\n",
       "GarageYrBlt      159\n",
       "LotFrontage      486\n",
       "FireplaceQu     1420\n",
       "SalePrice       1459\n",
       "Fence           2348\n",
       "Alley           2721\n",
       "MiscFeature     2814\n",
       "PoolQC          2909\n",
       "dtype: int64"
      ]
     },
     "execution_count": 4,
     "metadata": {},
     "output_type": "execute_result"
    }
   ],
   "source": [
    "# Get a sorted list of the numbers of Null values\n",
    "missingVals = dfBoth.isnull().sum()\n",
    "missingVals = missingVals[missingVals > 0]\n",
    "missingVals.sort_values()"
   ]
  },
  {
   "cell_type": "markdown",
   "id": "a776c9d4-5634-4a6b-a97a-222b28bded9f",
   "metadata": {
    "tags": []
   },
   "source": [
    "##### I was tempted to just remove any rows that have Null values in any of the columns with 5 or fewer Null values (Electrical through MSZoning), but I think we can make sense of some of them. For instance, the NaNs in `GarageArea` and `GarageCars` were probably just no garage and can reasonably be replaced with a zero."
   ]
  },
  {
   "cell_type": "code",
   "execution_count": 5,
   "id": "92b712c9-0146-4ffd-bda2-2b74210604f7",
   "metadata": {},
   "outputs": [],
   "source": [
    "# Replace null values with zero\n",
    "dfBoth.GarageArea.fillna(0, inplace=True)\n",
    "dfBoth.GarageCars.fillna(0, inplace=True)"
   ]
  },
  {
   "cell_type": "code",
   "execution_count": 6,
   "id": "48826b48-b83f-44fb-a59b-350e3b5ea971",
   "metadata": {},
   "outputs": [
    {
     "data": {
      "text/plain": [
       "2.0    1594\n",
       "1.0     776\n",
       "3.0     374\n",
       "0.0     158\n",
       "4.0      16\n",
       "5.0       1\n",
       "Name: GarageCars, dtype: int64"
      ]
     },
     "execution_count": 6,
     "metadata": {},
     "output_type": "execute_result"
    }
   ],
   "source": [
    "# Get the counts for each garage size (in cars)\n",
    "dfBoth.GarageCars.value_counts()"
   ]
  },
  {
   "cell_type": "markdown",
   "id": "3a071b4b-36cd-4386-8ebb-3c6e7150c7c5",
   "metadata": {},
   "source": [
    "##### Note the 157 zeroes (158 now) indicating no garage. The other Garage-type variables all have 157-159 Null values. We can set up a rule to change those NaNs to `None` for rows where `GarageCars == 0`. "
   ]
  },
  {
   "cell_type": "code",
   "execution_count": 7,
   "id": "1f9ee857-4723-4c3e-b328-6161716e4dbe",
   "metadata": {},
   "outputs": [],
   "source": [
    "# Conditionally replace null values with 'None'\n",
    "garageVars = [\"GarageType\", \"GarageCond\", \"GarageQual\", \n",
    "              \"GarageFinish\", \"GarageYrBlt\"]\n",
    "for i in garageVars:\n",
    "    dfBoth.loc[dfBoth['GarageCars'] == 0.0, i] = 'None'"
   ]
  },
  {
   "cell_type": "markdown",
   "id": "c2d03d1c-e5f3-4c3c-8dea-67e85f22bcc5",
   "metadata": {
    "tags": []
   },
   "source": [
    "##### Similarly, Null values in Basement-related variables likely indicate no basement and can also be replaced with a zero."
   ]
  },
  {
   "cell_type": "code",
   "execution_count": 8,
   "id": "31f6b255-091f-4f3e-98ae-c35be38e3fac",
   "metadata": {},
   "outputs": [],
   "source": [
    "# Replace null values with zero\n",
    "bsmtVars = [\"TotalBsmtSF\", \"BsmtFinSF1\", \"BsmtFinSF2\", \n",
    "            \"BsmtUnfSF\", \"BsmtHalfBath\", \"BsmtFullBath\"]\n",
    "for i in bsmtVars:\n",
    "    dfBoth[i].fillna(0, inplace=True)"
   ]
  },
  {
   "cell_type": "code",
   "execution_count": 9,
   "id": "368c9b72-8511-4946-83c6-75920a4b36e6",
   "metadata": {},
   "outputs": [],
   "source": [
    "# Conditionally replace null values with 'None'\n",
    "garageVars = [\"BsmtFinType1\", \"BsmtFinType2\", \"BsmtQual\", \n",
    "              \"BsmtCond\", \"BsmtExposure\"]\n",
    "for i in garageVars:\n",
    "    dfBoth.loc[dfBoth['TotalBsmtSF'] == 0.0, i] = 'None'"
   ]
  },
  {
   "cell_type": "code",
   "execution_count": null,
   "id": "228fa627-e403-47d2-bfb1-7c7ba5e61ad0",
   "metadata": {},
   "outputs": [],
   "source": []
  },
  {
   "cell_type": "code",
   "execution_count": 10,
   "id": "45af70d4-67f9-4ef3-a463-bebb08da9053",
   "metadata": {},
   "outputs": [
    {
     "data": {
      "text/plain": [
       "Electrical         1\n",
       "GarageCond         1\n",
       "GarageQual         1\n",
       "Exterior1st        1\n",
       "Exterior2nd        1\n",
       "GarageFinish       1\n",
       "GarageYrBlt        1\n",
       "BsmtFinType2       1\n",
       "SaleType           1\n",
       "KitchenQual        1\n",
       "Utilities          2\n",
       "BsmtQual           2\n",
       "Functional         2\n",
       "BsmtCond           3\n",
       "BsmtExposure       3\n",
       "MSZoning           4\n",
       "MasVnrArea        23\n",
       "MasVnrType        24\n",
       "LotFrontage      486\n",
       "FireplaceQu     1420\n",
       "SalePrice       1459\n",
       "Fence           2348\n",
       "Alley           2721\n",
       "MiscFeature     2814\n",
       "PoolQC          2909\n",
       "dtype: int64"
      ]
     },
     "execution_count": 10,
     "metadata": {},
     "output_type": "execute_result"
    }
   ],
   "source": [
    "# Get a sorted list of the numbers of Null values\n",
    "missingVals = dfBoth.isnull().sum()\n",
    "missingVals = missingVals[missingVals > 0]\n",
    "missingVals.sort_values()"
   ]
  },
  {
   "cell_type": "markdown",
   "id": "f7a27eec-a77c-40bb-a274-eb02cb988eec",
   "metadata": {
    "tags": []
   },
   "source": [
    "##### There are still Garage-related variables coming up null. I checked and they're all the same entry (test set, index 666). I suspect there is no garage and the number of cars for this entry (1.0) was mis-coded. We could delete this entry or set it up as no garage."
   ]
  },
  {
   "cell_type": "code",
   "execution_count": 11,
   "id": "1f0f23c8-ec46-4b57-ab88-0d23a3dddc71",
   "metadata": {},
   "outputs": [
    {
     "data": {
      "text/html": [
       "<div>\n",
       "<style scoped>\n",
       "    .dataframe tbody tr th:only-of-type {\n",
       "        vertical-align: middle;\n",
       "    }\n",
       "\n",
       "    .dataframe tbody tr th {\n",
       "        vertical-align: top;\n",
       "    }\n",
       "\n",
       "    .dataframe thead th {\n",
       "        text-align: right;\n",
       "    }\n",
       "</style>\n",
       "<table border=\"1\" class=\"dataframe\">\n",
       "  <thead>\n",
       "    <tr style=\"text-align: right;\">\n",
       "      <th></th>\n",
       "      <th></th>\n",
       "      <th>Id</th>\n",
       "      <th>MSSubClass</th>\n",
       "      <th>MSZoning</th>\n",
       "      <th>LotFrontage</th>\n",
       "      <th>LotArea</th>\n",
       "      <th>Street</th>\n",
       "      <th>Alley</th>\n",
       "      <th>LotShape</th>\n",
       "      <th>LandContour</th>\n",
       "      <th>Utilities</th>\n",
       "      <th>...</th>\n",
       "      <th>PoolArea</th>\n",
       "      <th>PoolQC</th>\n",
       "      <th>Fence</th>\n",
       "      <th>MiscFeature</th>\n",
       "      <th>MiscVal</th>\n",
       "      <th>MoSold</th>\n",
       "      <th>YrSold</th>\n",
       "      <th>SaleType</th>\n",
       "      <th>SaleCondition</th>\n",
       "      <th>SalePrice</th>\n",
       "    </tr>\n",
       "    <tr>\n",
       "      <th>dataSet</th>\n",
       "      <th>index</th>\n",
       "      <th></th>\n",
       "      <th></th>\n",
       "      <th></th>\n",
       "      <th></th>\n",
       "      <th></th>\n",
       "      <th></th>\n",
       "      <th></th>\n",
       "      <th></th>\n",
       "      <th></th>\n",
       "      <th></th>\n",
       "      <th></th>\n",
       "      <th></th>\n",
       "      <th></th>\n",
       "      <th></th>\n",
       "      <th></th>\n",
       "      <th></th>\n",
       "      <th></th>\n",
       "      <th></th>\n",
       "      <th></th>\n",
       "      <th></th>\n",
       "      <th></th>\n",
       "    </tr>\n",
       "  </thead>\n",
       "  <tbody>\n",
       "    <tr>\n",
       "      <th>test</th>\n",
       "      <th>666</th>\n",
       "      <td>2127</td>\n",
       "      <td>60</td>\n",
       "      <td>RM</td>\n",
       "      <td>57.0</td>\n",
       "      <td>8094</td>\n",
       "      <td>Pave</td>\n",
       "      <td>Grvl</td>\n",
       "      <td>Reg</td>\n",
       "      <td>Lvl</td>\n",
       "      <td>AllPub</td>\n",
       "      <td>...</td>\n",
       "      <td>0</td>\n",
       "      <td>NaN</td>\n",
       "      <td>MnPrv</td>\n",
       "      <td>Shed</td>\n",
       "      <td>1000</td>\n",
       "      <td>9</td>\n",
       "      <td>2008</td>\n",
       "      <td>WD</td>\n",
       "      <td>Normal</td>\n",
       "      <td>NaN</td>\n",
       "    </tr>\n",
       "  </tbody>\n",
       "</table>\n",
       "<p>1 rows × 81 columns</p>\n",
       "</div>"
      ],
      "text/plain": [
       "                 Id  MSSubClass MSZoning  LotFrontage  LotArea Street Alley  \\\n",
       "dataSet index                                                                 \n",
       "test    666    2127          60       RM         57.0     8094   Pave  Grvl   \n",
       "\n",
       "              LotShape LandContour Utilities  ... PoolArea PoolQC  Fence  \\\n",
       "dataSet index                                 ...                          \n",
       "test    666        Reg         Lvl    AllPub  ...        0    NaN  MnPrv   \n",
       "\n",
       "              MiscFeature MiscVal MoSold YrSold  SaleType  SaleCondition  \\\n",
       "dataSet index                                                              \n",
       "test    666          Shed    1000      9   2008        WD         Normal   \n",
       "\n",
       "               SalePrice  \n",
       "dataSet index             \n",
       "test    666          NaN  \n",
       "\n",
       "[1 rows x 81 columns]"
      ]
     },
     "execution_count": 11,
     "metadata": {},
     "output_type": "execute_result"
    }
   ],
   "source": [
    "dfBoth[dfBoth['GarageCond'].isnull()]"
   ]
  },
  {
   "cell_type": "markdown",
   "id": "93f86c6f-b38d-4a8e-bfca-169351c7c34a",
   "metadata": {},
   "source": [
    "##### I suspect something similar is happening with the Basement variables."
   ]
  },
  {
   "cell_type": "code",
   "execution_count": 12,
   "id": "cbbbb7a1-4722-4d04-95c9-bba110314eb4",
   "metadata": {},
   "outputs": [
    {
     "data": {
      "text/html": [
       "<div>\n",
       "<style scoped>\n",
       "    .dataframe tbody tr th:only-of-type {\n",
       "        vertical-align: middle;\n",
       "    }\n",
       "\n",
       "    .dataframe tbody tr th {\n",
       "        vertical-align: top;\n",
       "    }\n",
       "\n",
       "    .dataframe thead th {\n",
       "        text-align: right;\n",
       "    }\n",
       "</style>\n",
       "<table border=\"1\" class=\"dataframe\">\n",
       "  <thead>\n",
       "    <tr style=\"text-align: right;\">\n",
       "      <th></th>\n",
       "      <th></th>\n",
       "      <th>Id</th>\n",
       "      <th>MSSubClass</th>\n",
       "      <th>MSZoning</th>\n",
       "      <th>LotFrontage</th>\n",
       "      <th>LotArea</th>\n",
       "      <th>Street</th>\n",
       "      <th>Alley</th>\n",
       "      <th>LotShape</th>\n",
       "      <th>LandContour</th>\n",
       "      <th>Utilities</th>\n",
       "      <th>...</th>\n",
       "      <th>PoolArea</th>\n",
       "      <th>PoolQC</th>\n",
       "      <th>Fence</th>\n",
       "      <th>MiscFeature</th>\n",
       "      <th>MiscVal</th>\n",
       "      <th>MoSold</th>\n",
       "      <th>YrSold</th>\n",
       "      <th>SaleType</th>\n",
       "      <th>SaleCondition</th>\n",
       "      <th>SalePrice</th>\n",
       "    </tr>\n",
       "    <tr>\n",
       "      <th>dataSet</th>\n",
       "      <th>index</th>\n",
       "      <th></th>\n",
       "      <th></th>\n",
       "      <th></th>\n",
       "      <th></th>\n",
       "      <th></th>\n",
       "      <th></th>\n",
       "      <th></th>\n",
       "      <th></th>\n",
       "      <th></th>\n",
       "      <th></th>\n",
       "      <th></th>\n",
       "      <th></th>\n",
       "      <th></th>\n",
       "      <th></th>\n",
       "      <th></th>\n",
       "      <th></th>\n",
       "      <th></th>\n",
       "      <th></th>\n",
       "      <th></th>\n",
       "      <th></th>\n",
       "      <th></th>\n",
       "    </tr>\n",
       "  </thead>\n",
       "  <tbody>\n",
       "    <tr>\n",
       "      <th rowspan=\"2\" valign=\"top\">test</th>\n",
       "      <th>757</th>\n",
       "      <td>2218</td>\n",
       "      <td>70</td>\n",
       "      <td>C (all)</td>\n",
       "      <td>60.0</td>\n",
       "      <td>5280</td>\n",
       "      <td>Pave</td>\n",
       "      <td>NaN</td>\n",
       "      <td>Reg</td>\n",
       "      <td>Lvl</td>\n",
       "      <td>AllPub</td>\n",
       "      <td>...</td>\n",
       "      <td>0</td>\n",
       "      <td>NaN</td>\n",
       "      <td>NaN</td>\n",
       "      <td>NaN</td>\n",
       "      <td>0</td>\n",
       "      <td>7</td>\n",
       "      <td>2008</td>\n",
       "      <td>WD</td>\n",
       "      <td>Normal</td>\n",
       "      <td>NaN</td>\n",
       "    </tr>\n",
       "    <tr>\n",
       "      <th>758</th>\n",
       "      <td>2219</td>\n",
       "      <td>50</td>\n",
       "      <td>C (all)</td>\n",
       "      <td>52.0</td>\n",
       "      <td>5150</td>\n",
       "      <td>Pave</td>\n",
       "      <td>NaN</td>\n",
       "      <td>Reg</td>\n",
       "      <td>Lvl</td>\n",
       "      <td>AllPub</td>\n",
       "      <td>...</td>\n",
       "      <td>0</td>\n",
       "      <td>NaN</td>\n",
       "      <td>NaN</td>\n",
       "      <td>NaN</td>\n",
       "      <td>0</td>\n",
       "      <td>5</td>\n",
       "      <td>2008</td>\n",
       "      <td>WD</td>\n",
       "      <td>Normal</td>\n",
       "      <td>NaN</td>\n",
       "    </tr>\n",
       "  </tbody>\n",
       "</table>\n",
       "<p>2 rows × 81 columns</p>\n",
       "</div>"
      ],
      "text/plain": [
       "                 Id  MSSubClass MSZoning  LotFrontage  LotArea Street Alley  \\\n",
       "dataSet index                                                                 \n",
       "test    757    2218          70  C (all)         60.0     5280   Pave   NaN   \n",
       "        758    2219          50  C (all)         52.0     5150   Pave   NaN   \n",
       "\n",
       "              LotShape LandContour Utilities  ... PoolArea PoolQC Fence  \\\n",
       "dataSet index                                 ...                         \n",
       "test    757        Reg         Lvl    AllPub  ...        0    NaN   NaN   \n",
       "        758        Reg         Lvl    AllPub  ...        0    NaN   NaN   \n",
       "\n",
       "              MiscFeature MiscVal MoSold YrSold  SaleType  SaleCondition  \\\n",
       "dataSet index                                                              \n",
       "test    757           NaN       0      7   2008        WD         Normal   \n",
       "        758           NaN       0      5   2008        WD         Normal   \n",
       "\n",
       "               SalePrice  \n",
       "dataSet index             \n",
       "test    757          NaN  \n",
       "        758          NaN  \n",
       "\n",
       "[2 rows x 81 columns]"
      ]
     },
     "execution_count": 12,
     "metadata": {},
     "output_type": "execute_result"
    }
   ],
   "source": [
    "dfBoth[dfBoth['BsmtQual'].isnull()]"
   ]
  },
  {
   "cell_type": "code",
   "execution_count": 13,
   "id": "2ea02899-c3b8-4751-841f-c74b58d92cd2",
   "metadata": {},
   "outputs": [
    {
     "data": {
      "text/html": [
       "<div>\n",
       "<style scoped>\n",
       "    .dataframe tbody tr th:only-of-type {\n",
       "        vertical-align: middle;\n",
       "    }\n",
       "\n",
       "    .dataframe tbody tr th {\n",
       "        vertical-align: top;\n",
       "    }\n",
       "\n",
       "    .dataframe thead th {\n",
       "        text-align: right;\n",
       "    }\n",
       "</style>\n",
       "<table border=\"1\" class=\"dataframe\">\n",
       "  <thead>\n",
       "    <tr style=\"text-align: right;\">\n",
       "      <th></th>\n",
       "      <th></th>\n",
       "      <th>Id</th>\n",
       "      <th>MSSubClass</th>\n",
       "      <th>MSZoning</th>\n",
       "      <th>LotFrontage</th>\n",
       "      <th>LotArea</th>\n",
       "      <th>Street</th>\n",
       "      <th>Alley</th>\n",
       "      <th>LotShape</th>\n",
       "      <th>LandContour</th>\n",
       "      <th>Utilities</th>\n",
       "      <th>...</th>\n",
       "      <th>PoolArea</th>\n",
       "      <th>PoolQC</th>\n",
       "      <th>Fence</th>\n",
       "      <th>MiscFeature</th>\n",
       "      <th>MiscVal</th>\n",
       "      <th>MoSold</th>\n",
       "      <th>YrSold</th>\n",
       "      <th>SaleType</th>\n",
       "      <th>SaleCondition</th>\n",
       "      <th>SalePrice</th>\n",
       "    </tr>\n",
       "    <tr>\n",
       "      <th>dataSet</th>\n",
       "      <th>index</th>\n",
       "      <th></th>\n",
       "      <th></th>\n",
       "      <th></th>\n",
       "      <th></th>\n",
       "      <th></th>\n",
       "      <th></th>\n",
       "      <th></th>\n",
       "      <th></th>\n",
       "      <th></th>\n",
       "      <th></th>\n",
       "      <th></th>\n",
       "      <th></th>\n",
       "      <th></th>\n",
       "      <th></th>\n",
       "      <th></th>\n",
       "      <th></th>\n",
       "      <th></th>\n",
       "      <th></th>\n",
       "      <th></th>\n",
       "      <th></th>\n",
       "      <th></th>\n",
       "    </tr>\n",
       "  </thead>\n",
       "  <tbody>\n",
       "    <tr>\n",
       "      <th rowspan=\"3\" valign=\"top\">test</th>\n",
       "      <th>580</th>\n",
       "      <td>2041</td>\n",
       "      <td>20</td>\n",
       "      <td>RL</td>\n",
       "      <td>103.0</td>\n",
       "      <td>16280</td>\n",
       "      <td>Pave</td>\n",
       "      <td>NaN</td>\n",
       "      <td>Reg</td>\n",
       "      <td>Lvl</td>\n",
       "      <td>AllPub</td>\n",
       "      <td>...</td>\n",
       "      <td>0</td>\n",
       "      <td>NaN</td>\n",
       "      <td>GdWo</td>\n",
       "      <td>NaN</td>\n",
       "      <td>0</td>\n",
       "      <td>5</td>\n",
       "      <td>2008</td>\n",
       "      <td>WD</td>\n",
       "      <td>Normal</td>\n",
       "      <td>NaN</td>\n",
       "    </tr>\n",
       "    <tr>\n",
       "      <th>725</th>\n",
       "      <td>2186</td>\n",
       "      <td>20</td>\n",
       "      <td>RL</td>\n",
       "      <td>65.0</td>\n",
       "      <td>6500</td>\n",
       "      <td>Pave</td>\n",
       "      <td>NaN</td>\n",
       "      <td>Reg</td>\n",
       "      <td>Lvl</td>\n",
       "      <td>AllPub</td>\n",
       "      <td>...</td>\n",
       "      <td>0</td>\n",
       "      <td>NaN</td>\n",
       "      <td>NaN</td>\n",
       "      <td>NaN</td>\n",
       "      <td>0</td>\n",
       "      <td>5</td>\n",
       "      <td>2008</td>\n",
       "      <td>WD</td>\n",
       "      <td>Normal</td>\n",
       "      <td>NaN</td>\n",
       "    </tr>\n",
       "    <tr>\n",
       "      <th>1064</th>\n",
       "      <td>2525</td>\n",
       "      <td>80</td>\n",
       "      <td>RL</td>\n",
       "      <td>72.0</td>\n",
       "      <td>9720</td>\n",
       "      <td>Pave</td>\n",
       "      <td>NaN</td>\n",
       "      <td>Reg</td>\n",
       "      <td>Lvl</td>\n",
       "      <td>AllPub</td>\n",
       "      <td>...</td>\n",
       "      <td>0</td>\n",
       "      <td>NaN</td>\n",
       "      <td>MnPrv</td>\n",
       "      <td>NaN</td>\n",
       "      <td>0</td>\n",
       "      <td>6</td>\n",
       "      <td>2007</td>\n",
       "      <td>WD</td>\n",
       "      <td>Normal</td>\n",
       "      <td>NaN</td>\n",
       "    </tr>\n",
       "  </tbody>\n",
       "</table>\n",
       "<p>3 rows × 81 columns</p>\n",
       "</div>"
      ],
      "text/plain": [
       "                 Id  MSSubClass MSZoning  LotFrontage  LotArea Street Alley  \\\n",
       "dataSet index                                                                 \n",
       "test    580    2041          20       RL        103.0    16280   Pave   NaN   \n",
       "        725    2186          20       RL         65.0     6500   Pave   NaN   \n",
       "        1064   2525          80       RL         72.0     9720   Pave   NaN   \n",
       "\n",
       "              LotShape LandContour Utilities  ... PoolArea PoolQC  Fence  \\\n",
       "dataSet index                                 ...                          \n",
       "test    580        Reg         Lvl    AllPub  ...        0    NaN   GdWo   \n",
       "        725        Reg         Lvl    AllPub  ...        0    NaN    NaN   \n",
       "        1064       Reg         Lvl    AllPub  ...        0    NaN  MnPrv   \n",
       "\n",
       "              MiscFeature MiscVal MoSold YrSold  SaleType  SaleCondition  \\\n",
       "dataSet index                                                              \n",
       "test    580           NaN       0      5   2008        WD         Normal   \n",
       "        725           NaN       0      5   2008        WD         Normal   \n",
       "        1064          NaN       0      6   2007        WD         Normal   \n",
       "\n",
       "               SalePrice  \n",
       "dataSet index             \n",
       "test    580          NaN  \n",
       "        725          NaN  \n",
       "        1064         NaN  \n",
       "\n",
       "[3 rows x 81 columns]"
      ]
     },
     "execution_count": 13,
     "metadata": {},
     "output_type": "execute_result"
    }
   ],
   "source": [
    "dfBoth[dfBoth['BsmtCond'].isnull()]"
   ]
  },
  {
   "cell_type": "code",
   "execution_count": 14,
   "id": "fc95cfa5-b5ae-470a-aeee-5dcf78d3f688",
   "metadata": {},
   "outputs": [
    {
     "data": {
      "text/html": [
       "<div>\n",
       "<style scoped>\n",
       "    .dataframe tbody tr th:only-of-type {\n",
       "        vertical-align: middle;\n",
       "    }\n",
       "\n",
       "    .dataframe tbody tr th {\n",
       "        vertical-align: top;\n",
       "    }\n",
       "\n",
       "    .dataframe thead th {\n",
       "        text-align: right;\n",
       "    }\n",
       "</style>\n",
       "<table border=\"1\" class=\"dataframe\">\n",
       "  <thead>\n",
       "    <tr style=\"text-align: right;\">\n",
       "      <th></th>\n",
       "      <th></th>\n",
       "      <th>Id</th>\n",
       "      <th>MSSubClass</th>\n",
       "      <th>MSZoning</th>\n",
       "      <th>LotFrontage</th>\n",
       "      <th>LotArea</th>\n",
       "      <th>Street</th>\n",
       "      <th>Alley</th>\n",
       "      <th>LotShape</th>\n",
       "      <th>LandContour</th>\n",
       "      <th>Utilities</th>\n",
       "      <th>...</th>\n",
       "      <th>PoolArea</th>\n",
       "      <th>PoolQC</th>\n",
       "      <th>Fence</th>\n",
       "      <th>MiscFeature</th>\n",
       "      <th>MiscVal</th>\n",
       "      <th>MoSold</th>\n",
       "      <th>YrSold</th>\n",
       "      <th>SaleType</th>\n",
       "      <th>SaleCondition</th>\n",
       "      <th>SalePrice</th>\n",
       "    </tr>\n",
       "    <tr>\n",
       "      <th>dataSet</th>\n",
       "      <th>index</th>\n",
       "      <th></th>\n",
       "      <th></th>\n",
       "      <th></th>\n",
       "      <th></th>\n",
       "      <th></th>\n",
       "      <th></th>\n",
       "      <th></th>\n",
       "      <th></th>\n",
       "      <th></th>\n",
       "      <th></th>\n",
       "      <th></th>\n",
       "      <th></th>\n",
       "      <th></th>\n",
       "      <th></th>\n",
       "      <th></th>\n",
       "      <th></th>\n",
       "      <th></th>\n",
       "      <th></th>\n",
       "      <th></th>\n",
       "      <th></th>\n",
       "      <th></th>\n",
       "    </tr>\n",
       "  </thead>\n",
       "  <tbody>\n",
       "    <tr>\n",
       "      <th>train</th>\n",
       "      <th>948</th>\n",
       "      <td>949</td>\n",
       "      <td>60</td>\n",
       "      <td>RL</td>\n",
       "      <td>65.0</td>\n",
       "      <td>14006</td>\n",
       "      <td>Pave</td>\n",
       "      <td>NaN</td>\n",
       "      <td>IR1</td>\n",
       "      <td>Lvl</td>\n",
       "      <td>AllPub</td>\n",
       "      <td>...</td>\n",
       "      <td>0</td>\n",
       "      <td>NaN</td>\n",
       "      <td>NaN</td>\n",
       "      <td>NaN</td>\n",
       "      <td>0</td>\n",
       "      <td>2</td>\n",
       "      <td>2006</td>\n",
       "      <td>WD</td>\n",
       "      <td>Normal</td>\n",
       "      <td>192500.0</td>\n",
       "    </tr>\n",
       "    <tr>\n",
       "      <th rowspan=\"2\" valign=\"top\">test</th>\n",
       "      <th>27</th>\n",
       "      <td>1488</td>\n",
       "      <td>20</td>\n",
       "      <td>RL</td>\n",
       "      <td>73.0</td>\n",
       "      <td>8987</td>\n",
       "      <td>Pave</td>\n",
       "      <td>NaN</td>\n",
       "      <td>Reg</td>\n",
       "      <td>Lvl</td>\n",
       "      <td>AllPub</td>\n",
       "      <td>...</td>\n",
       "      <td>0</td>\n",
       "      <td>NaN</td>\n",
       "      <td>NaN</td>\n",
       "      <td>NaN</td>\n",
       "      <td>0</td>\n",
       "      <td>5</td>\n",
       "      <td>2010</td>\n",
       "      <td>WD</td>\n",
       "      <td>Normal</td>\n",
       "      <td>NaN</td>\n",
       "    </tr>\n",
       "    <tr>\n",
       "      <th>888</th>\n",
       "      <td>2349</td>\n",
       "      <td>60</td>\n",
       "      <td>FV</td>\n",
       "      <td>81.0</td>\n",
       "      <td>10411</td>\n",
       "      <td>Pave</td>\n",
       "      <td>NaN</td>\n",
       "      <td>Reg</td>\n",
       "      <td>Lvl</td>\n",
       "      <td>AllPub</td>\n",
       "      <td>...</td>\n",
       "      <td>0</td>\n",
       "      <td>NaN</td>\n",
       "      <td>NaN</td>\n",
       "      <td>NaN</td>\n",
       "      <td>0</td>\n",
       "      <td>7</td>\n",
       "      <td>2007</td>\n",
       "      <td>New</td>\n",
       "      <td>Partial</td>\n",
       "      <td>NaN</td>\n",
       "    </tr>\n",
       "  </tbody>\n",
       "</table>\n",
       "<p>3 rows × 81 columns</p>\n",
       "</div>"
      ],
      "text/plain": [
       "                 Id  MSSubClass MSZoning  LotFrontage  LotArea Street Alley  \\\n",
       "dataSet index                                                                 \n",
       "train   948     949          60       RL         65.0    14006   Pave   NaN   \n",
       "test    27     1488          20       RL         73.0     8987   Pave   NaN   \n",
       "        888    2349          60       FV         81.0    10411   Pave   NaN   \n",
       "\n",
       "              LotShape LandContour Utilities  ... PoolArea PoolQC Fence  \\\n",
       "dataSet index                                 ...                         \n",
       "train   948        IR1         Lvl    AllPub  ...        0    NaN   NaN   \n",
       "test    27         Reg         Lvl    AllPub  ...        0    NaN   NaN   \n",
       "        888        Reg         Lvl    AllPub  ...        0    NaN   NaN   \n",
       "\n",
       "              MiscFeature MiscVal MoSold YrSold  SaleType  SaleCondition  \\\n",
       "dataSet index                                                              \n",
       "train   948           NaN       0      2   2006        WD         Normal   \n",
       "test    27            NaN       0      5   2010        WD         Normal   \n",
       "        888           NaN       0      7   2007       New        Partial   \n",
       "\n",
       "               SalePrice  \n",
       "dataSet index             \n",
       "train   948     192500.0  \n",
       "test    27           NaN  \n",
       "        888          NaN  \n",
       "\n",
       "[3 rows x 81 columns]"
      ]
     },
     "execution_count": 14,
     "metadata": {},
     "output_type": "execute_result"
    }
   ],
   "source": [
    "dfBoth[dfBoth['BsmtExposure'].isnull()]"
   ]
  },
  {
   "cell_type": "code",
   "execution_count": 15,
   "id": "b08e2110-ddef-41ac-8cfc-b1f428661171",
   "metadata": {},
   "outputs": [
    {
     "data": {
      "text/html": [
       "<div>\n",
       "<style scoped>\n",
       "    .dataframe tbody tr th:only-of-type {\n",
       "        vertical-align: middle;\n",
       "    }\n",
       "\n",
       "    .dataframe tbody tr th {\n",
       "        vertical-align: top;\n",
       "    }\n",
       "\n",
       "    .dataframe thead th {\n",
       "        text-align: right;\n",
       "    }\n",
       "</style>\n",
       "<table border=\"1\" class=\"dataframe\">\n",
       "  <thead>\n",
       "    <tr style=\"text-align: right;\">\n",
       "      <th></th>\n",
       "      <th></th>\n",
       "      <th>Id</th>\n",
       "      <th>MSSubClass</th>\n",
       "      <th>MSZoning</th>\n",
       "      <th>LotFrontage</th>\n",
       "      <th>LotArea</th>\n",
       "      <th>Street</th>\n",
       "      <th>Alley</th>\n",
       "      <th>LotShape</th>\n",
       "      <th>LandContour</th>\n",
       "      <th>Utilities</th>\n",
       "      <th>...</th>\n",
       "      <th>PoolArea</th>\n",
       "      <th>PoolQC</th>\n",
       "      <th>Fence</th>\n",
       "      <th>MiscFeature</th>\n",
       "      <th>MiscVal</th>\n",
       "      <th>MoSold</th>\n",
       "      <th>YrSold</th>\n",
       "      <th>SaleType</th>\n",
       "      <th>SaleCondition</th>\n",
       "      <th>SalePrice</th>\n",
       "    </tr>\n",
       "    <tr>\n",
       "      <th>dataSet</th>\n",
       "      <th>index</th>\n",
       "      <th></th>\n",
       "      <th></th>\n",
       "      <th></th>\n",
       "      <th></th>\n",
       "      <th></th>\n",
       "      <th></th>\n",
       "      <th></th>\n",
       "      <th></th>\n",
       "      <th></th>\n",
       "      <th></th>\n",
       "      <th></th>\n",
       "      <th></th>\n",
       "      <th></th>\n",
       "      <th></th>\n",
       "      <th></th>\n",
       "      <th></th>\n",
       "      <th></th>\n",
       "      <th></th>\n",
       "      <th></th>\n",
       "      <th></th>\n",
       "      <th></th>\n",
       "    </tr>\n",
       "  </thead>\n",
       "  <tbody>\n",
       "    <tr>\n",
       "      <th>train</th>\n",
       "      <th>332</th>\n",
       "      <td>333</td>\n",
       "      <td>20</td>\n",
       "      <td>RL</td>\n",
       "      <td>85.0</td>\n",
       "      <td>10655</td>\n",
       "      <td>Pave</td>\n",
       "      <td>NaN</td>\n",
       "      <td>IR1</td>\n",
       "      <td>Lvl</td>\n",
       "      <td>AllPub</td>\n",
       "      <td>...</td>\n",
       "      <td>0</td>\n",
       "      <td>NaN</td>\n",
       "      <td>NaN</td>\n",
       "      <td>NaN</td>\n",
       "      <td>0</td>\n",
       "      <td>10</td>\n",
       "      <td>2009</td>\n",
       "      <td>WD</td>\n",
       "      <td>Normal</td>\n",
       "      <td>284000.0</td>\n",
       "    </tr>\n",
       "  </tbody>\n",
       "</table>\n",
       "<p>1 rows × 81 columns</p>\n",
       "</div>"
      ],
      "text/plain": [
       "                Id  MSSubClass MSZoning  LotFrontage  LotArea Street Alley  \\\n",
       "dataSet index                                                                \n",
       "train   332    333          20       RL         85.0    10655   Pave   NaN   \n",
       "\n",
       "              LotShape LandContour Utilities  ... PoolArea PoolQC Fence  \\\n",
       "dataSet index                                 ...                         \n",
       "train   332        IR1         Lvl    AllPub  ...        0    NaN   NaN   \n",
       "\n",
       "              MiscFeature MiscVal MoSold YrSold  SaleType  SaleCondition  \\\n",
       "dataSet index                                                              \n",
       "train   332           NaN       0     10   2009        WD         Normal   \n",
       "\n",
       "               SalePrice  \n",
       "dataSet index             \n",
       "train   332     284000.0  \n",
       "\n",
       "[1 rows x 81 columns]"
      ]
     },
     "execution_count": 15,
     "metadata": {},
     "output_type": "execute_result"
    }
   ],
   "source": [
    "dfBoth[dfBoth['BsmtFinType2'].isnull()]"
   ]
  },
  {
   "cell_type": "markdown",
   "id": "33bbadc7-d381-42dc-8a76-6db51c28f76b",
   "metadata": {},
   "source": [
    "##### Nope, it turns out that is not the case with the basements. Each of these will need to be dealt with individually or we could remove them.  \n",
    "EDIT: This issue is resolved in the steps below."
   ]
  },
  {
   "cell_type": "markdown",
   "id": "23d2c4eb-2211-404d-a5db-cc19c0217347",
   "metadata": {},
   "source": [
    "##### To grab some of the low-hanging fruit, I'll go through the *data_description.txt* file and assign a value to some of the NAs that actually represent something.  \n",
    "For example, in the **Alley** variable, NA means 'No alley access' so I'll change all NaN's to `'None'`.  \n",
    "NOTE: Maybe it would be best to do this step first."
   ]
  },
  {
   "cell_type": "code",
   "execution_count": 16,
   "id": "550c99bf-fc28-4ed1-a02f-899500ae039c",
   "metadata": {},
   "outputs": [],
   "source": [
    "# For Alley, NA represents 'No alley access'; replace with 'None'\n",
    "dfBoth.Alley.fillna('None', inplace=True)"
   ]
  },
  {
   "cell_type": "code",
   "execution_count": 17,
   "id": "1f33b9e7-d641-41a3-a68f-515d76167301",
   "metadata": {},
   "outputs": [],
   "source": [
    "# For BsmtQual, BsmtCond, BsmtExposure, BsmtFinType1, & BsmtFinType2,\n",
    "# NA represents 'No basement'; replace with 'None'\n",
    "bsmtVars = [\"BsmtQual\", \"BsmtCond\", \"BsmtExposure\", \n",
    "            \"BsmtFinType1\", \"BsmtFinType2\"]\n",
    "for i in bsmtVars:\n",
    "    dfBoth[i].fillna('None', inplace=True)"
   ]
  },
  {
   "cell_type": "code",
   "execution_count": 18,
   "id": "2090e0ae-04a5-4025-837f-47cf9f7ceeab",
   "metadata": {},
   "outputs": [],
   "source": [
    "# For FireplaceQu, NA represents 'No Fireplace'; replace with 'None'\n",
    "dfBoth.FireplaceQu.fillna('None', inplace=True)"
   ]
  },
  {
   "cell_type": "code",
   "execution_count": 19,
   "id": "2c2ecf7d-ec84-400f-b336-0706355cf920",
   "metadata": {},
   "outputs": [],
   "source": [
    "# For GarageType, GarageFinish, GarageQual, & GarageCond,\n",
    "# NA represents 'No Garage'; replace with 'None'\n",
    "garageVars = [\"GarageType\", \"GarageFinish\", \n",
    "              \"GarageQual\", \"GarageCond\"]\n",
    "for i in garageVars:\n",
    "    dfBoth[i].fillna('None', inplace=True)"
   ]
  },
  {
   "cell_type": "code",
   "execution_count": 20,
   "id": "9e29be54-1a18-4489-9ba2-d7e1d8ac4df5",
   "metadata": {},
   "outputs": [],
   "source": [
    "# For PoolQC, NA represents 'No Pool'; replace with 'None'\n",
    "dfBoth.PoolQC.fillna('None', inplace=True)"
   ]
  },
  {
   "cell_type": "code",
   "execution_count": 21,
   "id": "5a763f13-51e1-4d6a-8615-95ca7913149a",
   "metadata": {},
   "outputs": [],
   "source": [
    "# For Fence, NA represents 'No Fence'; replace with 'None'\n",
    "dfBoth.Fence.fillna('None', inplace=True)"
   ]
  },
  {
   "cell_type": "code",
   "execution_count": 22,
   "id": "4d41a9fa-fee8-4d45-bef5-8deb7a17e106",
   "metadata": {},
   "outputs": [],
   "source": [
    "# For MiscFeature, NA represents 'None'; replace with 'None'\n",
    "dfBoth.MiscFeature.fillna('None', inplace=True)"
   ]
  },
  {
   "cell_type": "code",
   "execution_count": null,
   "id": "332cdeb6-f0bb-4d55-8148-6f498461165b",
   "metadata": {},
   "outputs": [],
   "source": []
  },
  {
   "cell_type": "code",
   "execution_count": 23,
   "id": "5d11fc7a-25ea-4e72-a392-b4e65bf65457",
   "metadata": {},
   "outputs": [
    {
     "data": {
      "text/plain": [
       "Exterior1st       1\n",
       "Exterior2nd       1\n",
       "Electrical        1\n",
       "KitchenQual       1\n",
       "GarageYrBlt       1\n",
       "SaleType          1\n",
       "Utilities         2\n",
       "Functional        2\n",
       "MSZoning          4\n",
       "MasVnrArea       23\n",
       "MasVnrType       24\n",
       "LotFrontage     486\n",
       "SalePrice      1459\n",
       "dtype: int64"
      ]
     },
     "execution_count": 23,
     "metadata": {},
     "output_type": "execute_result"
    }
   ],
   "source": [
    "# Get a sorted list of the numbers of Null values\n",
    "missingVals = dfBoth.isnull().sum()\n",
    "missingVals = missingVals[missingVals > 0]\n",
    "missingVals.sort_values()"
   ]
  },
  {
   "cell_type": "markdown",
   "id": "660f7356-fbab-4790-8047-e38883986f2a",
   "metadata": {},
   "source": [
    "##### Many of these remaining should not contain null values (with the exception of SalePrice, which is our Test data).  "
   ]
  },
  {
   "cell_type": "code",
   "execution_count": 24,
   "id": "e02dcdcb-0f76-4734-b169-6225747540a8",
   "metadata": {},
   "outputs": [
    {
     "data": {
      "text/plain": [
       "VinylSd    1025\n",
       "MetalSd     450\n",
       "HdBoard     442\n",
       "Wd Sdng     411\n",
       "Plywood     221\n",
       "CemntBd     126\n",
       "BrkFace      87\n",
       "WdShing      56\n",
       "AsbShng      44\n",
       "Stucco       43\n",
       "BrkComm       6\n",
       "AsphShn       2\n",
       "Stone         2\n",
       "CBlock        2\n",
       "ImStucc       1\n",
       "Name: Exterior1st, dtype: int64"
      ]
     },
     "execution_count": 24,
     "metadata": {},
     "output_type": "execute_result"
    }
   ],
   "source": [
    "dfBoth.Exterior1st.value_counts()"
   ]
  },
  {
   "cell_type": "code",
   "execution_count": 25,
   "id": "f0cad8fb-7b77-4756-a255-851d208b8c43",
   "metadata": {},
   "outputs": [
    {
     "data": {
      "text/plain": [
       "VinylSd    1014\n",
       "MetalSd     447\n",
       "HdBoard     406\n",
       "Wd Sdng     391\n",
       "Plywood     270\n",
       "CmentBd     126\n",
       "Wd Shng      81\n",
       "BrkFace      47\n",
       "Stucco       47\n",
       "AsbShng      38\n",
       "Brk Cmn      22\n",
       "ImStucc      15\n",
       "Stone         6\n",
       "AsphShn       4\n",
       "CBlock        3\n",
       "Other         1\n",
       "Name: Exterior2nd, dtype: int64"
      ]
     },
     "execution_count": 25,
     "metadata": {},
     "output_type": "execute_result"
    }
   ],
   "source": [
    "dfBoth.Exterior2nd.value_counts()"
   ]
  },
  {
   "cell_type": "markdown",
   "id": "6dbcd557-0ef0-4b21-a353-254f61f97996",
   "metadata": {
    "tags": []
   },
   "source": [
    "##### Looking at these counts, I suspect when there is only one type of exterior that they put the same value for both (since there isn't a NA option for secondary)."
   ]
  },
  {
   "cell_type": "code",
   "execution_count": 26,
   "id": "aadabe00-b5e2-48c3-8d2a-fcbdb1b49b01",
   "metadata": {},
   "outputs": [
    {
     "data": {
      "text/plain": [
       "dataSet  index\n",
       "test     691      NaN\n",
       "Name: Exterior2nd, dtype: object"
      ]
     },
     "execution_count": 26,
     "metadata": {},
     "output_type": "execute_result"
    }
   ],
   "source": [
    "dfBoth.loc[dfBoth['Exterior1st'].isnull(), 'Exterior2nd']"
   ]
  },
  {
   "cell_type": "code",
   "execution_count": 27,
   "id": "b8b5315e-6601-4f3a-9b6c-72a37709d0b3",
   "metadata": {},
   "outputs": [
    {
     "data": {
      "text/plain": [
       "dataSet  index\n",
       "test     691      TA\n",
       "Name: ExterQual, dtype: object"
      ]
     },
     "execution_count": 27,
     "metadata": {},
     "output_type": "execute_result"
    }
   ],
   "source": [
    "dfBoth.loc[dfBoth['Exterior1st'].isnull(), 'ExterQual']"
   ]
  },
  {
   "cell_type": "code",
   "execution_count": 28,
   "id": "a06a8829-88c6-4db7-8b1a-4c7d5ba443d9",
   "metadata": {},
   "outputs": [
    {
     "data": {
      "text/plain": [
       "dataSet  index\n",
       "test     691      TA\n",
       "Name: ExterCond, dtype: object"
      ]
     },
     "execution_count": 28,
     "metadata": {},
     "output_type": "execute_result"
    }
   ],
   "source": [
    "dfBoth.loc[dfBoth['Exterior1st'].isnull(), 'ExterCond']"
   ]
  },
  {
   "cell_type": "markdown",
   "id": "c0c4659e-a258-4b1a-bd79-dfeefb7e70b5",
   "metadata": {},
   "source": [
    "##### Test data index 691: No listed primary or secondary exterior, but both Quality and Condition are \"Average/Typical\""
   ]
  },
  {
   "cell_type": "code",
   "execution_count": 29,
   "id": "e07f71be-dfb8-47a7-93f7-391dd6c3bb61",
   "metadata": {},
   "outputs": [
    {
     "data": {
      "text/html": [
       "<div>\n",
       "<style scoped>\n",
       "    .dataframe tbody tr th:only-of-type {\n",
       "        vertical-align: middle;\n",
       "    }\n",
       "\n",
       "    .dataframe tbody tr th {\n",
       "        vertical-align: top;\n",
       "    }\n",
       "\n",
       "    .dataframe thead th {\n",
       "        text-align: right;\n",
       "    }\n",
       "</style>\n",
       "<table border=\"1\" class=\"dataframe\">\n",
       "  <thead>\n",
       "    <tr style=\"text-align: right;\">\n",
       "      <th></th>\n",
       "      <th></th>\n",
       "      <th>Id</th>\n",
       "      <th>MSSubClass</th>\n",
       "      <th>MSZoning</th>\n",
       "      <th>LotFrontage</th>\n",
       "      <th>LotArea</th>\n",
       "      <th>Street</th>\n",
       "      <th>Alley</th>\n",
       "      <th>LotShape</th>\n",
       "      <th>LandContour</th>\n",
       "      <th>Utilities</th>\n",
       "      <th>...</th>\n",
       "      <th>PoolArea</th>\n",
       "      <th>PoolQC</th>\n",
       "      <th>Fence</th>\n",
       "      <th>MiscFeature</th>\n",
       "      <th>MiscVal</th>\n",
       "      <th>MoSold</th>\n",
       "      <th>YrSold</th>\n",
       "      <th>SaleType</th>\n",
       "      <th>SaleCondition</th>\n",
       "      <th>SalePrice</th>\n",
       "    </tr>\n",
       "    <tr>\n",
       "      <th>dataSet</th>\n",
       "      <th>index</th>\n",
       "      <th></th>\n",
       "      <th></th>\n",
       "      <th></th>\n",
       "      <th></th>\n",
       "      <th></th>\n",
       "      <th></th>\n",
       "      <th></th>\n",
       "      <th></th>\n",
       "      <th></th>\n",
       "      <th></th>\n",
       "      <th></th>\n",
       "      <th></th>\n",
       "      <th></th>\n",
       "      <th></th>\n",
       "      <th></th>\n",
       "      <th></th>\n",
       "      <th></th>\n",
       "      <th></th>\n",
       "      <th></th>\n",
       "      <th></th>\n",
       "      <th></th>\n",
       "    </tr>\n",
       "  </thead>\n",
       "  <tbody>\n",
       "    <tr>\n",
       "      <th>test</th>\n",
       "      <th>691</th>\n",
       "      <td>2152</td>\n",
       "      <td>30</td>\n",
       "      <td>RL</td>\n",
       "      <td>85.0</td>\n",
       "      <td>19550</td>\n",
       "      <td>Pave</td>\n",
       "      <td>None</td>\n",
       "      <td>Reg</td>\n",
       "      <td>Lvl</td>\n",
       "      <td>AllPub</td>\n",
       "      <td>...</td>\n",
       "      <td>0</td>\n",
       "      <td>None</td>\n",
       "      <td>None</td>\n",
       "      <td>None</td>\n",
       "      <td>0</td>\n",
       "      <td>1</td>\n",
       "      <td>2008</td>\n",
       "      <td>WD</td>\n",
       "      <td>Normal</td>\n",
       "      <td>NaN</td>\n",
       "    </tr>\n",
       "  </tbody>\n",
       "</table>\n",
       "<p>1 rows × 81 columns</p>\n",
       "</div>"
      ],
      "text/plain": [
       "                 Id  MSSubClass MSZoning  LotFrontage  LotArea Street Alley  \\\n",
       "dataSet index                                                                 \n",
       "test    691    2152          30       RL         85.0    19550   Pave  None   \n",
       "\n",
       "              LotShape LandContour Utilities  ... PoolArea PoolQC Fence  \\\n",
       "dataSet index                                 ...                         \n",
       "test    691        Reg         Lvl    AllPub  ...        0   None  None   \n",
       "\n",
       "              MiscFeature MiscVal MoSold YrSold  SaleType  SaleCondition  \\\n",
       "dataSet index                                                              \n",
       "test    691          None       0      1   2008        WD         Normal   \n",
       "\n",
       "               SalePrice  \n",
       "dataSet index             \n",
       "test    691          NaN  \n",
       "\n",
       "[1 rows x 81 columns]"
      ]
     },
     "execution_count": 29,
     "metadata": {},
     "output_type": "execute_result"
    }
   ],
   "source": [
    "dfBoth[dfBoth['Exterior1st'].isnull()]"
   ]
  },
  {
   "cell_type": "markdown",
   "id": "21e6ac51-9f92-48ff-a07f-8007a53da327",
   "metadata": {},
   "source": [
    "##### I wouldn't mind removing this row, but since it is in our test data, it might be nice to impute some values. \n",
    "TO DO: deal with Null values in Id # 2152"
   ]
  },
  {
   "cell_type": "code",
   "execution_count": null,
   "id": "0df6897d-63b5-4603-8054-cb228812dfb8",
   "metadata": {},
   "outputs": [],
   "source": []
  }
 ],
 "metadata": {
  "kernelspec": {
   "display_name": "Python 3 (ipykernel)",
   "language": "python",
   "name": "python3"
  },
  "language_info": {
   "codemirror_mode": {
    "name": "ipython",
    "version": 3
   },
   "file_extension": ".py",
   "mimetype": "text/x-python",
   "name": "python",
   "nbconvert_exporter": "python",
   "pygments_lexer": "ipython3",
   "version": "3.8.11"
  }
 },
 "nbformat": 4,
 "nbformat_minor": 5
}
