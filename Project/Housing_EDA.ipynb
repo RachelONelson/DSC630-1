{
 "cells": [
  {
   "cell_type": "code",
   "execution_count": 27,
   "id": "1277e97e-f1d7-41e6-928e-0186ec504851",
   "metadata": {},
   "outputs": [],
   "source": [
    "# Load Libraries\n",
    "import pandas as pd\n",
    "import numpy as np\n",
    "import matplotlib.pyplot as plt"
   ]
  },
  {
   "cell_type": "markdown",
   "id": "fc13b337-3a61-4f33-a5a8-1eca2ce88426",
   "metadata": {
    "tags": []
   },
   "source": [
    "##### Here I am just loading the downloaded .csv files, but it may be better to load them directly from Kaggle.  \n",
    "Thoughts?"
   ]
  },
  {
   "cell_type": "code",
   "execution_count": 28,
   "id": "16da0cdc-0516-40ca-8266-8d0b1c69e310",
   "metadata": {},
   "outputs": [
    {
     "name": "stdout",
     "output_type": "stream",
     "text": [
      "Shape of training data set: (1460, 81)\n",
      "Shape of testing data set:  (1459, 80)\n"
     ]
    }
   ],
   "source": [
    "# Load data sets\n",
    "dfTrain = pd.read_csv(\"train.csv\")\n",
    "dfTest = pd.read_csv(\"test.csv\")\n",
    "\n",
    "print(\"Shape of training data set:\", dfTrain.shape)\n",
    "print(\"Shape of testing data set: \", dfTest.shape)"
   ]
  },
  {
   "cell_type": "markdown",
   "id": "cb6ed5e9-f84b-4122-87b9-e75a674242e7",
   "metadata": {},
   "source": [
    "##### It might be a good idea to combine training and testing data sets for EDA purposes, in order to capture all of the odd cases."
   ]
  },
  {
   "cell_type": "code",
   "execution_count": 29,
   "id": "a65ebbde-1b00-4167-989e-3979e8527f5e",
   "metadata": {},
   "outputs": [
    {
     "name": "stdout",
     "output_type": "stream",
     "text": [
      "Shape of combined data set: (2919, 81)\n"
     ]
    }
   ],
   "source": [
    "# Combine data sets\n",
    "dfBoth = pd.concat([dfTrain, dfTest], keys=['train', 'test'], names=['dataSet', 'index'])\n",
    "\n",
    "print(\"Shape of combined data set:\", dfBoth.shape)"
   ]
  },
  {
   "cell_type": "markdown",
   "id": "8a36718d-ffbe-40b7-a1d6-c9042bdd9fd9",
   "metadata": {},
   "source": [
    "##### I think it's a good idea to first deal with *Null* values."
   ]
  },
  {
   "cell_type": "code",
   "execution_count": 30,
   "id": "41846c3e-10e6-4988-896d-126768ac0237",
   "metadata": {},
   "outputs": [
    {
     "data": {
      "text/plain": [
       "Electrical         1\n",
       "GarageArea         1\n",
       "GarageCars         1\n",
       "Exterior1st        1\n",
       "Exterior2nd        1\n",
       "KitchenQual        1\n",
       "SaleType           1\n",
       "TotalBsmtSF        1\n",
       "BsmtFinSF1         1\n",
       "BsmtUnfSF          1\n",
       "BsmtFinSF2         1\n",
       "Utilities          2\n",
       "Functional         2\n",
       "BsmtHalfBath       2\n",
       "BsmtFullBath       2\n",
       "MSZoning           4\n",
       "MasVnrArea        23\n",
       "MasVnrType        24\n",
       "BsmtFinType1      79\n",
       "BsmtFinType2      80\n",
       "BsmtQual          81\n",
       "BsmtExposure      82\n",
       "BsmtCond          82\n",
       "GarageType       157\n",
       "GarageCond       159\n",
       "GarageQual       159\n",
       "GarageFinish     159\n",
       "GarageYrBlt      159\n",
       "LotFrontage      486\n",
       "FireplaceQu     1420\n",
       "SalePrice       1459\n",
       "Fence           2348\n",
       "Alley           2721\n",
       "MiscFeature     2814\n",
       "PoolQC          2909\n",
       "dtype: int64"
      ]
     },
     "execution_count": 30,
     "metadata": {},
     "output_type": "execute_result"
    }
   ],
   "source": [
    "# Get a sorted list of the numbers of Null values\n",
    "missingVals = dfBoth.isnull().sum()\n",
    "missingVals = missingVals[missingVals > 0]\n",
    "missingVals.sort_values()"
   ]
  },
  {
   "cell_type": "markdown",
   "id": "a776c9d4-5634-4a6b-a97a-222b28bded9f",
   "metadata": {
    "tags": []
   },
   "source": [
    "##### I was tempted to just remove any rows that have Null values in any of the columns with 5 or fewer Null values (Electrical through MSZoning), but I think we can make sense of some of them. For instance, the NaNs in `GarageArea` and `GarageCars` were probably just no garage and can reasonably be replaced with a zero."
   ]
  },
  {
   "cell_type": "code",
   "execution_count": 31,
   "id": "92b712c9-0146-4ffd-bda2-2b74210604f7",
   "metadata": {},
   "outputs": [],
   "source": [
    "# Replace null values with zero\n",
    "dfBoth.GarageArea.fillna(0, inplace=True)\n",
    "dfBoth.GarageCars.fillna(0, inplace=True)"
   ]
  },
  {
   "cell_type": "code",
   "execution_count": 32,
   "id": "48826b48-b83f-44fb-a59b-350e3b5ea971",
   "metadata": {},
   "outputs": [
    {
     "data": {
      "text/plain": [
       "2.0    1594\n",
       "1.0     776\n",
       "3.0     374\n",
       "0.0     158\n",
       "4.0      16\n",
       "5.0       1\n",
       "Name: GarageCars, dtype: int64"
      ]
     },
     "execution_count": 32,
     "metadata": {},
     "output_type": "execute_result"
    }
   ],
   "source": [
    "# Get the counts for each garage size (in cars)\n",
    "dfBoth.GarageCars.value_counts()"
   ]
  },
  {
   "cell_type": "markdown",
   "id": "3a071b4b-36cd-4386-8ebb-3c6e7150c7c5",
   "metadata": {},
   "source": [
    "##### Note the 157 zeroes (158 now) indicating no garage. The other Garage-type variables all have 157-159 Null values. We can set up a rule to change those NaNs to `None` for rows where `GarageCars == 0`. "
   ]
  },
  {
   "cell_type": "code",
   "execution_count": 33,
   "id": "1f9ee857-4723-4c3e-b328-6161716e4dbe",
   "metadata": {},
   "outputs": [],
   "source": [
    "# Conditionally replace null values with 'None'\n",
    "garageVars = [\"GarageType\", \"GarageCond\", \"GarageQual\", \n",
    "              \"GarageFinish\", \"GarageYrBlt\"]\n",
    "for i in garageVars:\n",
    "    dfBoth.loc[dfBoth['GarageCars'] == 0.0, i] = 'None'"
   ]
  },
  {
   "cell_type": "markdown",
   "id": "c2d03d1c-e5f3-4c3c-8dea-67e85f22bcc5",
   "metadata": {
    "tags": []
   },
   "source": [
    "##### Similarly, Null values in Basement-related variables likely indicate no basement and can also be replaced with a zero."
   ]
  },
  {
   "cell_type": "code",
   "execution_count": 34,
   "id": "31f6b255-091f-4f3e-98ae-c35be38e3fac",
   "metadata": {},
   "outputs": [],
   "source": [
    "# Replace null values with zero\n",
    "bsmtVars = [\"TotalBsmtSF\", \"BsmtFinSF1\", \"BsmtFinSF2\", \n",
    "            \"BsmtUnfSF\", \"BsmtHalfBath\", \"BsmtFullBath\"]\n",
    "for i in bsmtVars:\n",
    "    dfBoth[i].fillna(0, inplace=True)"
   ]
  },
  {
   "cell_type": "code",
   "execution_count": 35,
   "id": "368c9b72-8511-4946-83c6-75920a4b36e6",
   "metadata": {},
   "outputs": [],
   "source": [
    "# Conditionally replace null values with 'None'\n",
    "garageVars = [\"BsmtFinType1\", \"BsmtFinType2\", \"BsmtQual\", \n",
    "              \"BsmtCond\", \"BsmtExposure\"]\n",
    "for i in garageVars:\n",
    "    dfBoth.loc[dfBoth['TotalBsmtSF'] == 0.0, i] = 'None'"
   ]
  },
  {
   "cell_type": "code",
   "execution_count": null,
   "id": "228fa627-e403-47d2-bfb1-7c7ba5e61ad0",
   "metadata": {},
   "outputs": [],
   "source": []
  },
  {
   "cell_type": "code",
   "execution_count": 36,
   "id": "45af70d4-67f9-4ef3-a463-bebb08da9053",
   "metadata": {},
   "outputs": [
    {
     "data": {
      "text/plain": [
       "Electrical         1\n",
       "GarageCond         1\n",
       "GarageQual         1\n",
       "Exterior1st        1\n",
       "Exterior2nd        1\n",
       "GarageFinish       1\n",
       "GarageYrBlt        1\n",
       "BsmtFinType2       1\n",
       "SaleType           1\n",
       "KitchenQual        1\n",
       "Utilities          2\n",
       "BsmtQual           2\n",
       "Functional         2\n",
       "BsmtCond           3\n",
       "BsmtExposure       3\n",
       "MSZoning           4\n",
       "MasVnrArea        23\n",
       "MasVnrType        24\n",
       "LotFrontage      486\n",
       "FireplaceQu     1420\n",
       "SalePrice       1459\n",
       "Fence           2348\n",
       "Alley           2721\n",
       "MiscFeature     2814\n",
       "PoolQC          2909\n",
       "dtype: int64"
      ]
     },
     "execution_count": 36,
     "metadata": {},
     "output_type": "execute_result"
    }
   ],
   "source": [
    "# Get a sorted list of the numbers of Null values\n",
    "missingVals = dfBoth.isnull().sum()\n",
    "missingVals = missingVals[missingVals > 0]\n",
    "missingVals.sort_values()"
   ]
  },
  {
   "cell_type": "markdown",
   "id": "f7a27eec-a77c-40bb-a274-eb02cb988eec",
   "metadata": {},
   "source": [
    "##### There are still Garage-related variables coming up null. I checked and they're all the same entry (test set, index 666). I suspect there is no garage and the number of cars for this entry (1.0) was mis-coded. We could delete this entry or set it up as no garage."
   ]
  },
  {
   "cell_type": "markdown",
   "id": "93f86c6f-b38d-4a8e-bfca-169351c7c34a",
   "metadata": {},
   "source": [
    "##### I haven't looked at the remaining Basement variables yet, but I suspect something similar to the Garage variables."
   ]
  },
  {
   "cell_type": "code",
   "execution_count": null,
   "id": "1f0f23c8-ec46-4b57-ab88-0d23a3dddc71",
   "metadata": {},
   "outputs": [],
   "source": []
  },
  {
   "cell_type": "code",
   "execution_count": null,
   "id": "2ea02899-c3b8-4751-841f-c74b58d92cd2",
   "metadata": {},
   "outputs": [],
   "source": []
  },
  {
   "cell_type": "code",
   "execution_count": null,
   "id": "ec32d1f6-71b5-4222-a6ec-30a61e4aa3e5",
   "metadata": {},
   "outputs": [],
   "source": []
  }
 ],
 "metadata": {
  "kernelspec": {
   "display_name": "Python 3 (ipykernel)",
   "language": "python",
   "name": "python3"
  },
  "language_info": {
   "codemirror_mode": {
    "name": "ipython",
    "version": 3
   },
   "file_extension": ".py",
   "mimetype": "text/x-python",
   "name": "python",
   "nbconvert_exporter": "python",
   "pygments_lexer": "ipython3",
   "version": "3.8.11"
  }
 },
 "nbformat": 4,
 "nbformat_minor": 5
}
